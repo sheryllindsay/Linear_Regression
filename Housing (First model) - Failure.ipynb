{
 "cells": [
  {
   "cell_type": "code",
   "execution_count": 2,
   "metadata": {},
   "outputs": [],
   "source": [
    "#Data Preperation Steps\n",
    "import pandas as pd\n",
    "import numpy as np\n",
    "import sklearn\n",
    "from sklearn import linear_model\n",
    "import matplotlib.pyplot as plt\n"
   ]
  },
  {
   "cell_type": "code",
   "execution_count": 3,
   "metadata": {},
   "outputs": [
    {
     "name": "stdout",
     "output_type": "stream",
     "text": [
      "[ 38500.  49500.  60500.  61000.  66000.  66000.  69000.  83800.  88500.\n",
      "  90000.  30500.  27000.  36000.  37000.  37900.  40500.  40750.  45000.\n",
      "  45000.  48500.  65900.  37900.  38000.  42000.  42300.  43500.  44000.\n",
      "  44500.  44900.  45000.  48000.  49000.  51500.  61000.  61000.  61700.\n",
      "  67000.  82000.  54500.  66500.  70000.  82000.  92000.  38000.  44000.\n",
      "  41000.  43000.  48000.  54800.  55000.  57000.  68000.  95000.  38000.\n",
      "  25000.  25245.  56000.  35500.  30000.  48000.  48000.  52000.  54000.\n",
      "  56000.  60000.  60000.  67000.  47000.  70000.  45000.  51000.  32500.\n",
      "  34000.  35000.  36000.  45000.  47000.  55000.  63900.  50000.  35000.\n",
      "  50000.  43000.  55500.  57000.  60000.  78000.  35000.  44000.  47000.\n",
      "  58000. 163000. 128000. 123500.  39000.  53900.  59900.  35000.  43000.\n",
      "  57000.  79000. 125000. 132000.  58000.  43000.  48000.  58500.  73000.\n",
      "  63500.  43000.  46500.  92000.  75000.  75000.  85000.  93000.  94500.\n",
      " 106500. 116000.  61500.  80000.  37000.  59500.  70000.  95000. 117000.\n",
      " 122500. 123500. 127000.  35000.  44500.  49900.  50500.  65000.  90000.\n",
      "  46000.  35000.  26500.  43000.  56000.  40000.  51000.  51000.  57250.\n",
      "  44000.  61000.  62000.  80000.  50000.  59900.  35500.  37000.  42000.\n",
      "  48000.  60000.  60000.  60000.  62000.  63000.  63900. 130000.  25000.\n",
      "  50000.  52900.  62000.  73500.  38000.  46000.  48000.  52500.  32000.\n",
      "  38000.  46000.  50000.  57500.  70000.  69900.  74500.  42000.  60000.\n",
      "  50000.  58000.  63900.  28000.  54000.  44700.  47000.  50000.  57250.\n",
      "  67000.  52500.  42000.  57500.  33000.  34400.  40000.  40500.  46500.\n",
      "  52000.  53000.  53900.  50000.  55500.  56000.  60000.  60000.  69500.\n",
      "  72000.  92500.  40500.  42000.  47900.  52000.  62000.  41000. 138300.\n",
      "  42000.  47000.  64500.  46000.  58000.  70100.  78500.  87250.  70800.\n",
      "  56000.  48000.  68000.  79000.  80000.  87000.  25000.  32500.  36000.\n",
      "  42500.  43000.  50000.  26000.  30000.  34000.  52000.  70000.  27000.\n",
      "  32500.  37200.  38000.  42000.  44500.  45000.  48500.  52000.  53900.\n",
      "  60000.  61000.  64500.  71000.  75500.  33500.  41000.  41000.  46200.\n",
      "  48500.  48900.  50000.  51000.  52500.  52500.  54000.  59000.  60000.\n",
      "  63000.  64000.  64900.  65000.  66000.  70000.  65500.  57000.  52000.\n",
      "  54000.  74500.  90000.  45000.  45000.  65000.  55000.  62000.  30000.\n",
      "  34000.  38000.  39000.  45000.  47000.  47500.  49000.  50000.  50000.\n",
      "  52900.  53000.  55000.  56000.  58500.  59500.  60000.  64000.  67000.\n",
      "  68100.  70000.  72000.  57500.  69900.  70000.  75000.  76900.  78000.\n",
      "  80000.  82000.  83000.  83000.  83900.  88500.  93000.  98000.  98500.\n",
      "  99000. 101000. 110000. 115442. 120000. 124000. 175000.  50000.  55000.\n",
      "  60000.  61000. 106000. 155000. 141000.  62500.  70000.  73000.  80000.\n",
      "  80000.  88000.  49000.  52000.  59500.  60000.  64000.  64500.  68500.\n",
      "  78500.  86000.  86900.  75000.  78000.  95000.  97000. 107000. 130000.\n",
      " 145000. 175000.  72000.  84900.  99000. 114000. 120000. 145000.  79000.\n",
      "  82000.  85000. 100500. 122000. 126500. 133000. 140000. 190000.  84000.\n",
      "  97000. 103500. 112500. 140000.  74700.  78000.  78900.  83900.  85000.\n",
      "  85000.  86000.  86900.  94500.  96000. 106000.  72000.  74500.  77000.\n",
      "  80750.  82900.  85000.  92500.  76000.  77500.  80000.  80000.  86000.\n",
      "  87000.  87500.  89000.  89900.  90000.  95000. 112000.  31900.  52000.\n",
      "  90000. 100000.  91700. 174500.  94700.  68000.  80000.  61100.  62900.\n",
      "  65500.  66000.  49500.  50000.  53500.  58550.  64500.  65000.  69000.\n",
      "  73000.  75000.  75000. 132000.  60000.  65000.  69000.  51900.  57000.\n",
      "  65000.  79500.  72500. 104900. 114900. 120000.  58000.  67000.  67000.\n",
      "  69000.  73000.  73500.  74900.  75000.  79500. 120900.  44555.  47000.\n",
      "  47600.  49000.  49000.  49000.  49500.  52000.  54000.  55000.  55000.\n",
      "  56000.  60000.  60500.  50000.  64900.  93000.  85000.  61500.  88500.\n",
      "  88000.  89000.  89500.  95000.  95500.  51500.  62900. 118500.  42900.\n",
      "  44100.  47000.  50000.  50000.  53000.  53000.  54000.  58500.  59000.\n",
      "  60000.  62900.  64000.  65000.  67900.  68500.  70000.  70500.  71500.\n",
      "  71900.  75000.  75000.  87000.  64000.  70000.  47500.  62600.  66000.\n",
      "  58900.  53000.  95000.  96500. 101000. 102000. 103000. 105000. 108000.\n",
      " 110000. 113000. 120000. 105000. 106000. 107500. 108000. 113750. 120000.\n",
      "  70000.  71000.  82000.  82000.  82500.  83000.  84000.  85000.  85000.\n",
      "  91500.  94000. 103000. 105000. 105000.]\n",
      "[ 4000.  3060.  6650.  6360.  4160.  3880.  4160.  4800.  5500.  7200.\n",
      "  3000.  1700.  2880.  3600.  3185.  3300.  5200.  3450.  3986.  4785.\n",
      "  4510.  4000.  3934.  4960.  3000.  3800.  4960.  3000.  4500.  3500.\n",
      "  3500.  4000.  4500.  6360.  4500.  4032.  5170.  5400.  3150.  3745.\n",
      "  4520.  4640.  8580.  2000.  2160.  3040.  3090.  4960.  3350.  5300.\n",
      "  4100.  9166.  4040.  3630.  3620.  2400.  7260.  4400.  2400.  4120.\n",
      "  4750.  4280.  4820.  5500.  5500.  5040.  6000.  2500.  4095.  4095.\n",
      "  3150.  1836.  2475.  3210.  3180.  1650.  3180.  3180.  6360.  4240.\n",
      "  3240.  3650.  3240.  3780.  6480.  5850.  3150.  3000.  3090.  6060.\n",
      "  5900.  7420.  8500.  8050.  6800.  8250.  8250.  3500.  2835.  4500.\n",
      "  3300.  4320.  3500.  4992.  4600.  3720.  3680.  3000.  3750.  5076.\n",
      "  4500.  5000.  4260.  6540.  3700.  3760.  4000.  4300.  6840.  4400.\n",
      " 10500.  4400.  4840.  4120.  4260.  5960.  8800.  4560.  4600.  4840.\n",
      "  3850.  4900.  3850.  3760.  6000.  4370.  7700.  2990.  3750.  3000.\n",
      "  2650.  4500.  4500.  4500.  4500.  2175.  4500.  4800.  4600.  3450.\n",
      "  3000.  3600.  3600.  3750.  2610.  2953.  2747.  1905.  3968.  3162.\n",
      "  6000.  2910.  2135.  3120.  4075.  3410.  2800.  2684.  3100.  3630.\n",
      "  1950.  2430.  4320.  3036.  3630.  5400.  3420.  3180.  3660.  4410.\n",
      "  3990.  4340.  3510.  3420.  3420.  5495.  3480.  7424.  3460.  3630.\n",
      "  3630.  3480.  3460.  3180.  3635.  3960.  4350.  3930.  3570.  3600.\n",
      "  2520.  3480.  3180.  3290.  4000.  2325.  4350.  3540.  3960.  2640.\n",
      "  2700.  2700.  3180.  3500.  3630.  6000.  3150.  3792.  3510.  3120.\n",
      "  3000.  4200.  2817.  3240.  2800.  3816.  3185.  6321.  3650.  4700.\n",
      "  6615.  3850.  3970.  3000.  4352.  3630.  3600.  3000.  3000.  2787.\n",
      "  3000.  4770.  3649.  3970.  2910.  3480.  6615.  3500.  3450.  3450.\n",
      "  3520.  6930.  4600.  4360.  3450.  4410.  4600.  3640.  6000.  5400.\n",
      "  3640.  3640.  4040.  3640.  3640.  5640.  3600.  3600.  4632.  3640.\n",
      "  4900.  4510.  4100.  3640.  5680.  6300.  4000.  3960.  5960.  5830.\n",
      "  4500.  4100.  6750.  9000.  2550.  7152.  6450.  3360.  3264.  4000.\n",
      "  4000.  3069.  4040.  4040.  3185.  5900.  3120.  5450.  4040.  4080.\n",
      "  8080.  4040.  4080.  5800.  5885.  9667.  3420.  5800.  7600.  5400.\n",
      "  4995.  3000.  5500.  6450.  6210.  5000.  5000.  5828.  5200.  5500.\n",
      "  6350.  8250.  6000.  7700.  8880.  8880.  6480.  7000.  8875.  7155.\n",
      "  8960.  7350.  3850.  7000.  7770.  7440.  7500.  8100.  3900.  2970.\n",
      "  3000. 10500.  5500.  4500.  3850.  4130.  4046.  4079.  4000.  9860.\n",
      "  7000.  7980.  6800.  4300. 10269.  6100.  6420. 12090.  6600.  6600.\n",
      "  8580.  9960. 10700. 15600. 13200.  9000.  7950. 16200.  6100.  6360.\n",
      "  6420.  6360.  6540.  6420.  6550.  5750.  7420.  7160.  4000.  9000.\n",
      "  6550. 13200.  7085.  6600.  6900. 11460.  7020.  6540.  8000.  9620.\n",
      " 10500.  5020.  7440.  6600.  7200.  6710.  6660.  7000.  7231.  7410.\n",
      "  7800.  6825.  6360.  6600.  6900.  6600.  6420.  6600.  6600.  9000.\n",
      "  6500.  6360.  5300.  2850.  6400. 11175.  6750.  7500.  6000. 10240.\n",
      "  5136.  3400.  2880.  3840.  2870.  5320.  3512.  3480.  3600.  3520.\n",
      "  5320.  6040. 11410.  8400.  5300.  7800.  3520.  5360.  6862.  3520.\n",
      "  4050.  3520.  4400.  5720. 11440.  7482.  5500.  4320.  5400.  4320.\n",
      "  4815.  6100.  7980.  6050.  3800.  5400.  6000.  2398.  2145.  2145.\n",
      "  2145.  2610.  1950.  2145.  2275.  2856.  2015.  2176.  2145.  2145.\n",
      "  2787.  9500.  4990.  6670.  6254. 10360.  5500.  5450.  5500.  6000.\n",
      "  5700.  6600.  4000.  4880.  4880.  8050.  8100.  5880.  5880. 12944.\n",
      "  6020.  4050.  8400.  5600.  5985.  4500.  4920.  8250.  8400.  6440.\n",
      "  8100.  6720.  5948.  8150.  4800.  9800.  8520.  8372.  4040.  4646.\n",
      "  4775.  4950.  5010.  6060.  3584.  6000.  6000.  6240.  6000.  7680.\n",
      "  6000.  6000.  6000.  6000.  7475.  5150.  6325.  6000.  6000.  6000.\n",
      "  7000. 12900.  7686.  5000.  5800.  6000.  4800.  6500.  7320.  6525.\n",
      "  4800.  6000.  6000.  6000.  6000.]\n"
     ]
    }
   ],
   "source": [
    "x,y=np.loadtxt(r\"C:\\Users\\shery\\Desktop\\housing.txt\",skiprows=2,unpack=True)\n",
    "print(x)\n",
    "print(y)"
   ]
  },
  {
   "cell_type": "code",
   "execution_count": 4,
   "metadata": {},
   "outputs": [],
   "source": [
    "reg=linear_model.LinearRegression()\n"
   ]
  },
  {
   "cell_type": "code",
   "execution_count": 5,
   "metadata": {},
   "outputs": [],
   "source": [
    "from sklearn.model_selection import train_test_split\n",
    "X_train,X_test,y_train,y_test=train_test_split(x,y ,random_state=0)"
   ]
  },
  {
   "cell_type": "code",
   "execution_count": 6,
   "metadata": {},
   "outputs": [
    {
     "name": "stdout",
     "output_type": "stream",
     "text": [
      "X_train:(408,)\n",
      "X_test:(137,)\n",
      "y_train:(408,)\n",
      "y_test:(137,)\n"
     ]
    }
   ],
   "source": [
    "print(\"X_train:{}\".format(X_train.shape))\n",
    "print(\"X_test:{}\".format(X_test.shape))\n",
    "print(\"y_train:{}\".format(y_train.shape))\n",
    "print(\"y_test:{}\".format(y_test.shape))"
   ]
  },
  {
   "cell_type": "code",
   "execution_count": 7,
   "metadata": {},
   "outputs": [
    {
     "data": {
      "text/plain": [
       "LinearRegression(copy_X=True, fit_intercept=True, n_jobs=1, normalize=False)"
      ]
     },
     "execution_count": 7,
     "metadata": {},
     "output_type": "execute_result"
    }
   ],
   "source": [
    "m=len(X_train)\n",
    "X_train=X_train.reshape(m,1)\n",
    "reg.fit(X_train,y_train)"
   ]
  },
  {
   "cell_type": "code",
   "execution_count": 8,
   "metadata": {},
   "outputs": [
    {
     "name": "stdout",
     "output_type": "stream",
     "text": [
      "Prediction:[4382.20618962]\n"
     ]
    }
   ],
   "source": [
    "new=np.array([[49500]])\n",
    "prediction=reg.predict(new)\n",
    "print(\"Prediction:{}\".format(prediction))"
   ]
  },
  {
   "cell_type": "code",
   "execution_count": 9,
   "metadata": {},
   "outputs": [
    {
     "name": "stdout",
     "output_type": "stream",
     "text": [
      "The test set predictions are:\n",
      "[3738.04010261 5441.96330052 6522.49996261 5109.49048141 6044.57028515\n",
      " 4735.45855992 5857.5543244  6273.14534828 5483.52240291 5732.87701724\n",
      " 3675.70144902 7478.35931754 5192.60868619 5358.84509574 5230.01187834\n",
      " 5234.16778858 4444.5448432  9597.87353933 5067.93137903 6065.34983634\n",
      " 3754.66374356 5379.62464694 4735.45855992 5815.99522201 5358.84509574\n",
      " 4980.65726401 6065.34983634 4112.0720241  4319.86753604 7145.88649843\n",
      " 5047.15182783 6356.26355306 4236.74933126 4758.31606623 6439.38175783\n",
      " 4652.34035514 4008.17426813 6314.70445067 7100.1714858  4195.19022888\n",
      " 4195.19022888 5732.87701724 3987.39471693 5628.97926127 6626.39771858\n",
      " 4028.95381932 3821.15830738 7810.83213664 5317.28599335 4980.65726401\n",
      " 5155.20549404 5649.75881246 5109.49048141 4361.42663843 5026.37227664\n",
      " 4704.28923313 4818.5767647  3426.3468347  5587.42015888 4236.74933126\n",
      " 4315.7116258  4402.98574082 6252.36579709 4112.0720241  4527.66304798\n",
      " 4901.69496947 3900.12060192 4299.08798485 4818.5767647  4818.5767647\n",
      " 4548.44259917 7810.83213664 5441.96330052 4195.19022888 4922.47452067\n",
      " 4402.98574082 5774.43611962 4278.30843365 6688.73637216 8143.30495575\n",
      " 4818.5767647  4008.17426813 3571.80369305 5649.75881246 5936.51661894\n",
      " 4964.03362306 5171.829135   5213.38823738 5429.4955698  5022.2163664\n",
      " 5317.28599335 4814.42085446 9577.09398814 4984.81317425 8184.86405813\n",
      " 4382.20618962 4361.42663843 3821.15830738 5026.37227664 5441.96330052\n",
      " 4444.5448432  5441.96330052 7021.20919127 4182.72249816 4278.30843365\n",
      " 4423.76529201 5234.16778858 4486.10394559 4818.5767647  6605.61816739\n",
      " 4939.09816162 7249.7842544  5940.67252918 4818.5767647  4402.98574082\n",
      " 4486.10394559 5234.16778858 5811.83931177 7852.39123903 3592.58324425\n",
      " 6293.92489947 5441.96330052 5192.60868619 4901.69496947 5437.80739028\n",
      " 5857.5543244  4818.5767647  5649.75881246 7416.02066395 5525.08150529\n",
      " 4610.78125276 5317.28599335 5811.83931177 6688.73637216 3904.27651216\n",
      " 5807.68340153 8143.30495575]\n",
      "[ 2787.  6540.  8880.  6000.  6000.  4992.  7020.  5700.  7800.  5400.\n",
      "  1836.  7155.  4815. 11410.  4995.  6720.  3640.  9960.  2870.  4100.\n",
      "  3635.  3410.  5900.  6500.  3000.  3162.  6000.  3630.  3750.  6840.\n",
      "  4000.  4000.  4320.  3600. 13200.  3816.  3300.  5020.  7482.  6750.\n",
      "  3450.  5000.  2650.  5400.  9000.  3040.  3000.  7800.  7600.  6360.\n",
      "  3420.  4700.  4320.  3850.  5360.  3460.  5850.  2990.  7980.  3120.\n",
      "  2700.  2135. 10500.  3090.  4050.  1905.  4000.  4040.  5800.  2325.\n",
      "  3480.  3500.  5500.  1650.  3900.  3600.  4800.  6060.  6000. 13200.\n",
      "  3520.  4350.  3000.  5500.  9620.  3750.  7000.  4350.  7085.  4100.\n",
      "  6600.  8250.  7500.  4000.  8100.  3060.  1950.  2880.  2550. 10269.\n",
      "  4500.  8400.  6000.  5495.  3180.  3850.  3000.  2275.  2953.  6000.\n",
      "  4920.  4880.  8372.  4600.  3640.  3000.  5400. 11460.  6550.  3000.\n",
      "  6600.  4260.  6862.  3500.  6050.  6254.  5040.  6600.  8800.  6710.\n",
      "  7152. 10700.  5500.  5150.  3480.  4800.  5750.]\n"
     ]
    }
   ],
   "source": [
    "n=len(X_test)\n",
    "X_test=X_test.reshape(n,1)\n",
    "y_pred=reg.predict(X_test)\n",
    "\n",
    "print(\"The test set predictions are:\\n{}\".format(y_pred))\n",
    "print(y_test)"
   ]
  },
  {
   "cell_type": "code",
   "execution_count": 10,
   "metadata": {},
   "outputs": [
    {
     "name": "stdout",
     "output_type": "stream",
     "text": [
      "Test set score: 0.34\n"
     ]
    }
   ],
   "source": [
    "print(\"Test set score: {:.2f}\".format(reg.score(X_test,y_test)))"
   ]
  },
  {
   "cell_type": "code",
   "execution_count": 2,
   "metadata": {},
   "outputs": [
    {
     "ename": "NameError",
     "evalue": "name 'np' is not defined",
     "output_type": "error",
     "traceback": [
      "\u001b[1;31m---------------------------------------------------------------------------\u001b[0m",
      "\u001b[1;31mNameError\u001b[0m                                 Traceback (most recent call last)",
      "\u001b[1;32m<ipython-input-2-5081d5f382be>\u001b[0m in \u001b[0;36m<module>\u001b[1;34m()\u001b[0m\n\u001b[1;32m----> 1\u001b[1;33m \u001b[0mmax_x\u001b[0m\u001b[1;33m=\u001b[0m\u001b[0mnp\u001b[0m\u001b[1;33m.\u001b[0m\u001b[0mmax\u001b[0m\u001b[1;33m(\u001b[0m\u001b[0mx\u001b[0m\u001b[1;33m)\u001b[0m\u001b[1;33m+\u001b[0m\u001b[1;36m100\u001b[0m\u001b[1;33m\u001b[0m\u001b[0m\n\u001b[0m\u001b[0;32m      2\u001b[0m \u001b[0mmin_x\u001b[0m\u001b[1;33m=\u001b[0m\u001b[0mnp\u001b[0m\u001b[1;33m.\u001b[0m\u001b[0mmin\u001b[0m\u001b[1;33m(\u001b[0m\u001b[0mx\u001b[0m\u001b[1;33m)\u001b[0m\u001b[1;33m-\u001b[0m\u001b[1;36m100\u001b[0m\u001b[1;33m\u001b[0m\u001b[0m\n\u001b[0;32m      3\u001b[0m \u001b[0mv\u001b[0m\u001b[1;33m=\u001b[0m\u001b[0mnp\u001b[0m\u001b[1;33m.\u001b[0m\u001b[0mlinspace\u001b[0m\u001b[1;33m(\u001b[0m\u001b[0mmin_x\u001b[0m\u001b[1;33m,\u001b[0m\u001b[0mmax_x\u001b[0m\u001b[1;33m,\u001b[0m\u001b[1;36m1000\u001b[0m\u001b[1;33m)\u001b[0m\u001b[1;33m\u001b[0m\u001b[0m\n\u001b[0;32m      4\u001b[0m \u001b[0mw\u001b[0m\u001b[1;33m=\u001b[0m\u001b[1;36m2325.030621410564\u001b[0m\u001b[1;33m-\u001b[0m\u001b[1;36m0.0415591\u001b[0m\u001b[1;33m*\u001b[0m\u001b[0mv\u001b[0m\u001b[1;33m\u001b[0m\u001b[0m\n\u001b[0;32m      5\u001b[0m \u001b[0mplt\u001b[0m\u001b[1;33m.\u001b[0m\u001b[0mrcParams\u001b[0m\u001b[1;33m[\u001b[0m\u001b[1;34m'figure.figsize'\u001b[0m\u001b[1;33m]\u001b[0m\u001b[1;33m=\u001b[0m\u001b[1;33m[\u001b[0m\u001b[1;36m20.0\u001b[0m\u001b[1;33m,\u001b[0m\u001b[1;36m10.0\u001b[0m\u001b[1;33m]\u001b[0m\u001b[1;33m\u001b[0m\u001b[0m\n",
      "\u001b[1;31mNameError\u001b[0m: name 'np' is not defined"
     ]
    }
   ],
   "source": [
    "max_x=np.max(x)+100\n",
    "min_x=np.min(x)-100\n",
    "v=np.linspace(min_x,max_x,1000)\n",
    "w=2325.030621410564-0.0415591*v\n",
    "plt.rcParams['figure.figsize']=[20.0,10.0]\n",
    "plt.plot(v,w,color='#58b970',label='regression line')\n",
    "plt.scatter(x,y,c='#ef5423',label='scatter pplot')\n",
    "plt.xlabel('tempertaure')\n",
    "plt.ylabel('pressure')\n",
    "plt.legend()\n",
    "plt.plot()"
   ]
  },
  {
   "cell_type": "code",
   "execution_count": 11,
   "metadata": {},
   "outputs": [
    {
     "name": "stdout",
     "output_type": "stream",
     "text": [
      "2325.030621410564\n",
      "[0.0415591]\n"
     ]
    }
   ],
   "source": [
    "print(reg.intercept_)\n",
    "print(reg.coef_)"
   ]
  },
  {
   "cell_type": "code",
   "execution_count": 13,
   "metadata": {},
   "outputs": [
    {
     "name": "stdout",
     "output_type": "stream",
     "text": [
      "Test set score: 0.26\n"
     ]
    }
   ],
   "source": [
    "print(\"Test set score: {:.2f}\".format(reg.score(X_train,y_train)))"
   ]
  },
  {
   "cell_type": "code",
   "execution_count": 50,
   "metadata": {},
   "outputs": [
    {
     "data": {
      "text/plain": [
       "1047.1518278316144"
      ]
     },
     "execution_count": 50,
     "metadata": {},
     "output_type": "execute_result"
    }
   ],
   "source": [
    "from sklearn.metrics import median_absolute_error\n",
    "\n",
    "median_absolute_error(y_pred, y_test)"
   ]
  },
  {
   "cell_type": "code",
   "execution_count": 14,
   "metadata": {
    "scrolled": true
   },
   "outputs": [
    {
     "data": {
      "image/png": "[encoded data removed]",
      "text/plain": [
       "<Figure size 432x288 with 1 Axes>"
      ]
     },
     "metadata": {},
     "output_type": "display_data"
    }
   ],
   "source": [
    "plt.scatter(X_test,y_test,  color='red')\n",
    "plt.plot(X_test,y_pred, color='blue', linewidth=3)\n",
    "\n",
    "plt.xticks(())\n",
    "plt.yticks(())\n",
    "\n",
    "plt.show()"
   ]
  },
  {
   "cell_type": "code",
   "execution_count": 17,
   "metadata": {},
   "outputs": [
    {
     "name": "stdout",
     "output_type": "stream",
     "text": [
      "Mean squared error: 3591527.82\n",
      "Variance score: 0.34\n"
     ]
    }
   ],
   "source": [
    " from sklearn.metrics import mean_squared_error, r2_score\n",
    "print(\"Mean squared error: %.2f\"% mean_squared_error(y_test,y_pred))\n",
    "print('Variance score: %.2f' % r2_score(y_test,y_pred))"
   ]
  },
  {
   "cell_type": "code",
   "execution_count": null,
   "metadata": {},
   "outputs": [],
   "source": []
  }
 ],
 "metadata": {
  "kernelspec": {
   "display_name": "Python 3",
   "language": "python",
   "name": "python3"
  },
  "language_info": {
   "codemirror_mode": {
    "name": "ipython",
    "version": 3
   },
   "file_extension": ".py",
   "mimetype": "text/x-python",
   "name": "python",
   "nbconvert_exporter": "python",
   "pygments_lexer": "ipython3",
   "version": "3.6.5"
  }
 },
 "nbformat": 4,
 "nbformat_minor": 2
}
